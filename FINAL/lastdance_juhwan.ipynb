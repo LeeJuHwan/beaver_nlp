{
 "cells": [
  {
   "cell_type": "code",
   "execution_count": 1,
   "metadata": {},
   "outputs": [],
   "source": [
    "from module.lastdance import Algorithm\n",
    "from module.jh import JH"
   ]
  },
  {
   "cell_type": "code",
   "execution_count": 2,
   "metadata": {},
   "outputs": [],
   "source": [
    "jh = JH()"
   ]
  },
  {
   "cell_type": "code",
   "execution_count": 3,
   "metadata": {},
   "outputs": [],
   "source": [
    "import pandas as pd \n",
    "from kiwipiepy import Kiwi\n",
    "import numpy as np\n",
    "import re\n",
    "import pickle"
   ]
  },
  {
   "cell_type": "code",
   "execution_count": 5,
   "metadata": {},
   "outputs": [],
   "source": [
    "with open(r\"module/nnp_list.pkl\", \"rb\") as r :\n",
    "    nnp_list = pickle.load(r)\n",
    "\n",
    "with open(r\"module/WD.StandardDict.p\", \"rb\") as r :\n",
    "    StandradDict = pickle.load(r)\n",
    "\n",
    "with open(r\"module/WD.WordToStandard.p\", \"rb\") as r :\n",
    "    WordToStandard = pickle.load(r)"
   ]
  },
  {
   "cell_type": "code",
   "execution_count": 72,
   "metadata": {},
   "outputs": [
    {
     "data": {
      "text/plain": [
       "'c:\\\\Users\\\\user\\\\Desktop\\\\workbench\\\\started_from_the_bottom\\\\FINAL'"
      ]
     },
     "execution_count": 72,
     "metadata": {},
     "output_type": "execute_result"
    }
   ],
   "source": [
    "pwd"
   ]
  },
  {
   "cell_type": "code",
   "execution_count": 74,
   "metadata": {},
   "outputs": [],
   "source": [
    "sub = pd.read_excel(r\"C:\\Users\\user\\Desktop\\workbench\\started_from_the_bottom\\FINAL\\data\\offerTest.xlsx\")"
   ]
  },
  {
   "cell_type": "markdown",
   "metadata": {},
   "source": [
    "### Class process code re-factoring"
   ]
  },
  {
   "cell_type": "code",
   "execution_count": 25,
   "metadata": {},
   "outputs": [],
   "source": [
    "class Algorithm:\n",
    "    def __init__(self) -> None:\n",
    "        self.stop_words = [\"정식\",\"안주\", \"자체\", \"배달\", \"할인\", \"계절\"] \n",
    "        self.option_list = [\"추가\",\"선택\", \"많이\", \"적게\", \"조금\",\"빼고\", \"리필\",\"tall\",\"small\",\"large\",\"xl\",\"인분\",\"l\",\"m\",\"s\",\"grande\",\"venti\"\n",
    "                            \"reguler\", \"기본\", \"매장\", \"포장\", \"패밀리\"]\n",
    "\n",
    "\n",
    "    # stop words algorithm / Step 1 #\n",
    "    def is_stop_words(self, stop_word_text:str, stop_words_param:list) -> str:\n",
    "        \"\"\"_summary_\n",
    "\n",
    "        Args:\n",
    "            stop_word_text (str): _description_\n",
    "            stop_words_param (list): _description_\n",
    "\n",
    "        Returns:\n",
    "            str: _description_\n",
    "        \"\"\"\n",
    "        result = jh.kiwi.space(stop_word_text).split(\" \")\n",
    "        for i in result :\n",
    "            if i in stop_words_param :\n",
    "                pat = re.compile(f\"{i}\")\n",
    "                stop_word_text = re.sub(pat, \"\", stop_word_text)\n",
    "        return stop_word_text.strip()\n",
    "    # apply 선언 함수\n",
    "    stop_words_func = lambda self, txt : self.is_stop_words(txt, self.stop_words)\n",
    "    \n",
    "    # for bascket data algorithm / Step 2 #\n",
    "    def bascket_remove(self, text:str) -> str :\n",
    "        \"\"\"_summary_\n",
    "\n",
    "        Args:\n",
    "            text (str): _description_\n",
    "\n",
    "        Returns:\n",
    "            str: _description_\n",
    "        \"\"\"\n",
    "        pat = re.compile(r\"\\([^)]*\\)|\\[[^)]*\\]\")\n",
    "        bascket_find = pat.findall(text)\n",
    "        if bascket_find : \n",
    "            pat2 = re.compile(\"\\(|\\)|\\[|\\]\")\n",
    "            res = [pat2.sub(\" \",i) for i in bascket_find ]\n",
    "            for j in res :\n",
    "                try : \n",
    "                    if j in nnp_list[nnp_list.index(j)] :\n",
    "                        pat2 = re.compile(\"\\(|\\)|\\[|\\]\")\n",
    "                        text = pat2.sub(\"\", text)\n",
    "                except :\n",
    "                    pat2 = re.compile(\"\\(|\\)|\\[|\\]\")\n",
    "                    text = pat2.sub(\" \", text)\n",
    "                \n",
    "        return text\n",
    "\n",
    "    # option check algorithm / Step 3 #\n",
    "    def is_option(self, option_text:str, option_li:list) ->str:\n",
    "        \"\"\"_summary_\n",
    "\n",
    "        Args:\n",
    "            option_text (str): _description_\n",
    "            option_li (list): _description_\n",
    "\n",
    "        Returns:\n",
    "            str: _description_\n",
    "        \"\"\"\n",
    "        result = jh.kiwi.space(option_text).split(\" \")\n",
    "        for i in result :\n",
    "            if i in option_li :\n",
    "                pat = re.compile(f\"{i}\")\n",
    "                valiable = \"\".join(pat.findall(option_text))\n",
    "                return \" \".join(result), f\"옵션 {valiable}\"\n",
    "        else :\n",
    "            return option_text, \"\"\n",
    "    # apply 선언 함수\n",
    "    option_func = lambda self, txt : self.is_option(txt, self.option_list)\n",
    "\n",
    "    # special_character algorithm / Step 4 #\n",
    "    def special_char(self, special_text:str) -> str: \n",
    "        \"\"\"_summary_\n",
    "\n",
    "        Args:\n",
    "            special_text (str): _description_\n",
    "\n",
    "        Returns:\n",
    "            str: _description_\n",
    "        \"\"\"\n",
    "        split_result = re.split(r\"\\+|\\&|\\/|\\,\", special_text)\n",
    "        if len(split_result) >= 2 :\n",
    "            combine_text = [split_result[split_result.index(i)].strip() for i in split_result]\n",
    "            pattern = re.compile(r\"[^\\w\\s]+\")\n",
    "            return [pattern.sub(\"\", i ) for i in combine_text]\n",
    "        else : \n",
    "            pattern = re.compile(r\"[^\\w\\s]+\")\n",
    "            return pattern.sub(\"\", special_text)\n",
    "\n",
    "    # unit algorithm / Step 5 #\n",
    "    extract_morph = lambda self, x : jh.morph(x)\n",
    "\n",
    "    # space algorithm / Step 6 #\n",
    "    spacing_text = lambda self, x : jh.kiwi.space(x)\n",
    "\n",
    "    # remove_nnp/ Step 7 #\n",
    "    def nnp_extract(self, text:str, nnp_list:list) -> str :\n",
    "        \"\"\"_summary_\n",
    "\n",
    "        Args:\n",
    "            text (str): _description_\n",
    "            nnp_list (list): _description_\n",
    "\n",
    "        Returns:\n",
    "            str: _description_\n",
    "        \"\"\"\n",
    "        res = []\n",
    "        for i in text.split() :      \n",
    "            if i not in nnp_list :\n",
    "                res.append(i)\n",
    "        return \" \".join(res)\n",
    "\n",
    "    nnp_remove = lambda self, x: self.nnp_extract(x, nnp_list)\n",
    "\n",
    "\n",
    "    # std words / Step 8 #\n",
    "    def word_standard(self,txt:str) -> str :\n",
    "        \"\"\"_summary_\n",
    "\n",
    "        Args:\n",
    "            txt (str): _description_\n",
    "\n",
    "        Returns:\n",
    "            str: _description_\n",
    "        \"\"\"\n",
    "        res = []\n",
    "        for word in txt.split(' '):\n",
    "            try:\n",
    "                res.append(WordToStandard[word])\n",
    "            except :\n",
    "                res.append(word)\n",
    "        return \" \".join(res)\n",
    "        \n",
    "    # data standard / Step 9 #\n",
    "    def member_menu(self, txt:str) -> str :\n",
    "        \"\"\"_summary_\n",
    "\n",
    "        Args:\n",
    "            txt (str): _description_\n",
    "\n",
    "        Returns:\n",
    "            str: _description_\n",
    "        \"\"\"\n",
    "        score_ls = []\n",
    "        word_ls = txt.split(' ')\n",
    "        for word in word_ls:\n",
    "            try:\n",
    "                score_ls.append(StandradDict[word]['mean'])\n",
    "            except:\n",
    "                score_ls.append(10)\n",
    "        menu = word_ls[np.array(score_ls).argmin()]\n",
    "        word_ls.pop(word_ls.index(menu))\n",
    "        return word_ls, menu\n",
    "\n"
   ]
  },
  {
   "cell_type": "code",
   "execution_count": 26,
   "metadata": {},
   "outputs": [],
   "source": [
    "df = pd.read_excel(r\"C:\\Users\\user\\Desktop\\workbench\\dataset\\sampleTest.xlsx\")"
   ]
  },
  {
   "cell_type": "code",
   "execution_count": 50,
   "metadata": {},
   "outputs": [],
   "source": [
    "train = pd.read_excel(r\"C:\\Users\\user\\Desktop\\workbench\\dataset\\offerTrain.xlsx\")"
   ]
  },
  {
   "cell_type": "code",
   "execution_count": 8,
   "metadata": {},
   "outputs": [],
   "source": [
    "algo = Algorithm()"
   ]
  },
  {
   "attachments": {},
   "cell_type": "markdown",
   "metadata": {},
   "source": [
    "### 파이프라인 적용 할 프로세스형 함수"
   ]
  },
  {
   "cell_type": "code",
   "execution_count": 68,
   "metadata": {},
   "outputs": [],
   "source": [
    "def preprocessing(text) :\n",
    "    res = {'메뉴':None, '맛/재료':None, \n",
    "        '단위':None, '세트/옵션':None}\n",
    "\n",
    "    x = algo.bascket_remove(text)\n",
    "    x = algo.stop_words_func(x) # 불용어 알고리즘\n",
    "    # print(\"불용어 처리 알고리즘 : \", x)\n",
    "    x = algo.bascket_remove(x)\n",
    "    # print(\"괄호 처리 알고리즘 : \", x )\n",
    "    x = algo.option_func(x) # 옵션 알고리즘\n",
    "    # print(\"옵션 처리 알고리즘 : \", x)\n",
    "    if x[-1] : # 옵션 알고리즘을 통해 옵션 데이터로 판별 될 경우 함수 종료 \n",
    "        res[\"세트/옵션\"] = \"옵션\"\n",
    "        res[\"메뉴\"] = x[0]\n",
    "        return {\"menu\" : x,\n",
    "                \"std\" : res}\n",
    "        \n",
    "    x = algo.special_char(x[0]) # 특수문자 알고리즘 \n",
    "    # print(\"특수문자 처리 알고리즘 :\", x)\n",
    "    if type(x) == list  : # (세트를 의미하는) 특수문자가 존재 하는 경우\n",
    "        res[\"세트/옵션\"] = \"세트\"\n",
    "        return {\"menu\" : \" \".join(x),\n",
    "                \"std\" : res}\n",
    "    rs = jh.morph(x)\n",
    "    # print(\"단위 처리 알고리즘 : \", rs )\n",
    "    try : \n",
    "        if rs[-1] :\n",
    "            res[\"단위\"] = \"\".join(rs[-1]) \n",
    "        x = algo.spacing_text(rs[0]) # 스페이싱 알고리즘\n",
    "        # print(\"스페이싱 알고리즘 : \", x )\n",
    "    except TypeError as e:\n",
    "        pass\n",
    "    x = algo.nnp_remove(x)\n",
    "    # print(\"고유명사 제거 알고리즘 : \", x)\n",
    "    x = algo.word_standard(x)\n",
    "    # print(\"단어 표준화 알고리즘 : \", x)\n",
    "    output = algo.member_menu(x)\n",
    "    # print(\"데이터 표준화 알고리즘 : \", output) \n",
    "    res[\"맛/재료\"] = \",\".join(output[0]); res[\"메뉴\"] = output[1]\n",
    "\n",
    "    token_result = jh.kiwi.tokenize(x)\n",
    "    ls = [i.form for i in token_result if i.tag[0] == \"N\"]\n",
    "    return {\"menu\" : \" \".join(ls),\n",
    "            \"std\" : res}\n"
   ]
  },
  {
   "cell_type": "code",
   "execution_count": 98,
   "metadata": {},
   "outputs": [],
   "source": [
    "# preprocessing(\"[커피에반하다] 카페라떼 ice (tall)\")"
   ]
  },
  {
   "cell_type": "code",
   "execution_count": 17,
   "metadata": {},
   "outputs": [],
   "source": [
    "from sklearn.metrics import accuracy_score"
   ]
  },
  {
   "cell_type": "code",
   "execution_count": 36,
   "metadata": {},
   "outputs": [
    {
     "data": {
      "text/plain": [
       "38.982352941176465"
      ]
     },
     "execution_count": 36,
     "metadata": {},
     "output_type": "execute_result"
    }
   ],
   "source": [
    "accuracy_score(df[\"표준상품명\"], df[\"submission\"]) * 100  "
   ]
  },
  {
   "cell_type": "code",
   "execution_count": 38,
   "metadata": {},
   "outputs": [],
   "source": [
    "df['메뉴'] =\"\" \n",
    "df['맛/재료'] =\"\" \n",
    "df['단위'] =\"\" \n",
    "df['세트/옵션'] =\"\" "
   ]
  },
  {
   "cell_type": "code",
   "execution_count": 43,
   "metadata": {},
   "outputs": [
    {
     "data": {
      "text/html": [
       "<div>\n",
       "<style scoped>\n",
       "    .dataframe tbody tr th:only-of-type {\n",
       "        vertical-align: middle;\n",
       "    }\n",
       "\n",
       "    .dataframe tbody tr th {\n",
       "        vertical-align: top;\n",
       "    }\n",
       "\n",
       "    .dataframe thead th {\n",
       "        text-align: right;\n",
       "    }\n",
       "</style>\n",
       "<table border=\"1\" class=\"dataframe\">\n",
       "  <thead>\n",
       "    <tr style=\"text-align: right;\">\n",
       "      <th></th>\n",
       "      <th>사업자등록번호</th>\n",
       "      <th>상점명</th>\n",
       "      <th>카테고리명</th>\n",
       "      <th>상품명</th>\n",
       "      <th>표준상품명</th>\n",
       "      <th>가격</th>\n",
       "      <th>submission</th>\n",
       "      <th>메뉴</th>\n",
       "      <th>맛/재료</th>\n",
       "      <th>단위</th>\n",
       "      <th>세트/옵션</th>\n",
       "    </tr>\n",
       "  </thead>\n",
       "  <tbody>\n",
       "  </tbody>\n",
       "</table>\n",
       "</div>"
      ],
      "text/plain": [
       "Empty DataFrame\n",
       "Columns: [사업자등록번호, 상점명, 카테고리명, 상품명, 표준상품명, 가격, submission, 메뉴, 맛/재료, 단위, 세트/옵션]\n",
       "Index: []"
      ]
     },
     "execution_count": 43,
     "metadata": {},
     "output_type": "execute_result"
    }
   ],
   "source": []
  },
  {
   "cell_type": "code",
   "execution_count": 40,
   "metadata": {},
   "outputs": [
    {
     "data": {
      "text/plain": [
       "0        None\n",
       "1        None\n",
       "2        None\n",
       "3        None\n",
       "4        None\n",
       "         ... \n",
       "50995    None\n",
       "50996    None\n",
       "50997    None\n",
       "50998    None\n",
       "50999    None\n",
       "Length: 51000, dtype: object"
      ]
     },
     "execution_count": 40,
     "metadata": {},
     "output_type": "execute_result"
    }
   ],
   "source": [
    "def func(row):\n",
    "    x= row['상품명']\n",
    "    k = preprocessing(x).get(\"std\")\n",
    "    row['메뉴'] = k['메뉴'] \n",
    "    row['맛/재료'] = k['맛/재료']\n",
    "    row['단위'] = k['단위'] \n",
    "    row['세트/옵션'] = k['세트/옵션']\n",
    "df.apply(func, axis=1)"
   ]
  },
  {
   "cell_type": "code",
   "execution_count": 51,
   "metadata": {},
   "outputs": [],
   "source": [
    "for i in ['메뉴', '맛/재료','단위','세트/옵션'] :\n",
    "    try : \n",
    "        df[i] = df[\"상품명\"].apply(lambda x : preprocessing(x).get(\"std\"))[i]\n",
    "    except :\n",
    "        None "
   ]
  },
  {
   "cell_type": "code",
   "execution_count": 53,
   "metadata": {},
   "outputs": [
    {
     "data": {
      "text/html": [
       "<div>\n",
       "<style scoped>\n",
       "    .dataframe tbody tr th:only-of-type {\n",
       "        vertical-align: middle;\n",
       "    }\n",
       "\n",
       "    .dataframe tbody tr th {\n",
       "        vertical-align: top;\n",
       "    }\n",
       "\n",
       "    .dataframe thead th {\n",
       "        text-align: right;\n",
       "    }\n",
       "</style>\n",
       "<table border=\"1\" class=\"dataframe\">\n",
       "  <thead>\n",
       "    <tr style=\"text-align: right;\">\n",
       "      <th></th>\n",
       "      <th>사업자등록번호</th>\n",
       "      <th>상점명</th>\n",
       "      <th>카테고리명</th>\n",
       "      <th>상품명</th>\n",
       "      <th>표준상품명</th>\n",
       "      <th>가격</th>\n",
       "      <th>submission</th>\n",
       "      <th>메뉴</th>\n",
       "      <th>맛/재료</th>\n",
       "      <th>단위</th>\n",
       "      <th>세트/옵션</th>\n",
       "    </tr>\n",
       "  </thead>\n",
       "  <tbody>\n",
       "  </tbody>\n",
       "</table>\n",
       "</div>"
      ],
      "text/plain": [
       "Empty DataFrame\n",
       "Columns: [사업자등록번호, 상점명, 카테고리명, 상품명, 표준상품명, 가격, submission, 메뉴, 맛/재료, 단위, 세트/옵션]\n",
       "Index: []"
      ]
     },
     "execution_count": 53,
     "metadata": {},
     "output_type": "execute_result"
    }
   ],
   "source": [
    "df[df[\"메뉴\"] != \"\"]"
   ]
  },
  {
   "cell_type": "code",
   "execution_count": 97,
   "metadata": {},
   "outputs": [],
   "source": [
    "# df[df[\"표준상품명\"] == df[\"submission\"]].sample(30)"
   ]
  },
  {
   "cell_type": "code",
   "execution_count": 83,
   "metadata": {},
   "outputs": [],
   "source": [
    "for_apply = lambda x : preprocessing(str(x)).get(\"std\")[\"메뉴\"]"
   ]
  },
  {
   "cell_type": "code",
   "execution_count": 77,
   "metadata": {},
   "outputs": [],
   "source": [
    "col = ['사업자등록번호', '상점명', '카테고리명', '상품명', '가격']"
   ]
  },
  {
   "cell_type": "code",
   "execution_count": 80,
   "metadata": {},
   "outputs": [],
   "source": [
    "y_sub = sub[col]"
   ]
  },
  {
   "cell_type": "code",
   "execution_count": 84,
   "metadata": {},
   "outputs": [],
   "source": [
    "y_sub[\"submission\"] = y_sub[\"상품명\"].apply(for_apply)"
   ]
  },
  {
   "cell_type": "code",
   "execution_count": 88,
   "metadata": {},
   "outputs": [
    {
     "data": {
      "text/plain": [
       "(48417, 6)"
      ]
     },
     "execution_count": 88,
     "metadata": {},
     "output_type": "execute_result"
    }
   ],
   "source": [
    "sub.shape"
   ]
  },
  {
   "cell_type": "code",
   "execution_count": 89,
   "metadata": {},
   "outputs": [
    {
     "data": {
      "text/plain": [
       "(48417, 6)"
      ]
     },
     "execution_count": 89,
     "metadata": {},
     "output_type": "execute_result"
    }
   ],
   "source": [
    "y_sub.shape"
   ]
  },
  {
   "cell_type": "code",
   "execution_count": 93,
   "metadata": {},
   "outputs": [],
   "source": [
    "y_sub[\"submission\"].fillna(\"-\", inplace = True)"
   ]
  },
  {
   "cell_type": "code",
   "execution_count": 95,
   "metadata": {},
   "outputs": [
    {
     "data": {
      "text/plain": [
       "20.29659004068819"
      ]
     },
     "execution_count": 95,
     "metadata": {},
     "output_type": "execute_result"
    }
   ],
   "source": [
    "accuracy_score(sub[\"표준상품명\"], y_sub[\"submission\"]) * 100"
   ]
  },
  {
   "cell_type": "code",
   "execution_count": null,
   "metadata": {},
   "outputs": [],
   "source": [
    "accuracy_score(sub[\"표준상푸명\"])"
   ]
  },
  {
   "cell_type": "code",
   "execution_count": 45,
   "metadata": {},
   "outputs": [
    {
     "data": {
      "text/plain": [
       "'김치찌개'"
      ]
     },
     "execution_count": 45,
     "metadata": {},
     "output_type": "execute_result"
    }
   ],
   "source": [
    "for_apply(\"김치찌개\")"
   ]
  },
  {
   "cell_type": "code",
   "execution_count": 23,
   "metadata": {},
   "outputs": [
    {
     "ename": "NameError",
     "evalue": "name 'train' is not defined",
     "output_type": "error",
     "traceback": [
      "\u001b[1;31m---------------------------------------------------------------------------\u001b[0m",
      "\u001b[1;31mNameError\u001b[0m                                 Traceback (most recent call last)",
      "\u001b[1;32m~\\AppData\\Local\\Temp\\ipykernel_5688\\1857804151.py\u001b[0m in \u001b[0;36m<module>\u001b[1;34m\u001b[0m\n\u001b[1;32m----> 1\u001b[1;33m \u001b[0mtrain\u001b[0m\u001b[1;33m[\u001b[0m\u001b[1;34m\"submission\"\u001b[0m\u001b[1;33m]\u001b[0m \u001b[1;33m=\u001b[0m \u001b[0mtrain\u001b[0m\u001b[1;33m[\u001b[0m\u001b[1;34m\"상품명\"\u001b[0m\u001b[1;33m]\u001b[0m\u001b[1;33m.\u001b[0m\u001b[0mapply\u001b[0m\u001b[1;33m(\u001b[0m\u001b[0mfor_apply\u001b[0m\u001b[1;33m)\u001b[0m\u001b[1;33m\u001b[0m\u001b[1;33m\u001b[0m\u001b[0m\n\u001b[0m",
      "\u001b[1;31mNameError\u001b[0m: name 'train' is not defined"
     ]
    }
   ],
   "source": [
    "train[\"submission\"] = train[\"상품명\"].apply(for_apply)"
   ]
  },
  {
   "cell_type": "code",
   "execution_count": 99,
   "metadata": {},
   "outputs": [],
   "source": [
    "# train[train[\"submission\"] != \"\"].sample(30)"
   ]
  },
  {
   "cell_type": "code",
   "execution_count": 100,
   "metadata": {},
   "outputs": [],
   "source": [
    "# df[df['submission'] == df['표준상품명']]"
   ]
  },
  {
   "cell_type": "code",
   "execution_count": 30,
   "metadata": {},
   "outputs": [],
   "source": [
    "df[\"submission\"] = df[\"상품명\"].apply(for_apply)"
   ]
  },
  {
   "cell_type": "code",
   "execution_count": 19,
   "metadata": {},
   "outputs": [
    {
     "data": {
      "text/plain": [
       "8539"
      ]
     },
     "execution_count": 19,
     "metadata": {},
     "output_type": "execute_result"
    }
   ],
   "source": [
    "len(df[df[\"표준상품명\"] == \"-\"])"
   ]
  },
  {
   "cell_type": "code",
   "execution_count": 101,
   "metadata": {},
   "outputs": [],
   "source": [
    "# df[df[\"submission\"] != \"\"].sample(30)"
   ]
  },
  {
   "cell_type": "code",
   "execution_count": 102,
   "metadata": {},
   "outputs": [],
   "source": [
    "# preprocessing(\"[커피에반하다] 카페라떼 ice (tall)\")"
   ]
  },
  {
   "cell_type": "markdown",
   "metadata": {},
   "source": [
    "### 고유명사 구축"
   ]
  },
  {
   "cell_type": "code",
   "execution_count": 18,
   "metadata": {},
   "outputs": [],
   "source": [
    "sido = pd.read_csv(r\"C:\\Users\\user\\Desktop\\workbench\\dataset\\국토교통부_전국 법정동_20221031.csv\", encoding= 'cp949')"
   ]
  },
  {
   "cell_type": "code",
   "execution_count": 19,
   "metadata": {},
   "outputs": [],
   "source": [
    "world = pd.read_csv(r\"C:\\Users\\user\\Desktop\\workbench\\dataset\\외교부_국가(지역)별 일반현황_20220629.csv\", encoding= 'cp949')"
   ]
  },
  {
   "cell_type": "code",
   "execution_count": 20,
   "metadata": {},
   "outputs": [],
   "source": [
    "df_list = df[df[\"상점명\"].str.contains(\"_\")][\"상점명\"].str.split(\"_\").str.get(0).unique().tolist() # 테스트 기업 명"
   ]
  },
  {
   "cell_type": "code",
   "execution_count": 21,
   "metadata": {},
   "outputs": [],
   "source": [
    "train_list = train[train[\"상점명\"].str.contains(\"_\")][\"상점명\"].str.split(\"_\").str.get(0).unique().tolist()"
   ]
  },
  {
   "cell_type": "code",
   "execution_count": 22,
   "metadata": {},
   "outputs": [],
   "source": [
    "sigungu_list = sido[\"시군구명\"].str[:-1].unique().tolist()"
   ]
  },
  {
   "cell_type": "code",
   "execution_count": 23,
   "metadata": {},
   "outputs": [],
   "source": [
    "myundong_list = sido[\"시도명\"].str[:2].unique().tolist()"
   ]
  },
  {
   "cell_type": "code",
   "execution_count": 24,
   "metadata": {},
   "outputs": [],
   "source": [
    "world_list = world[\"한글 국가명\"].tolist()"
   ]
  },
  {
   "cell_type": "code",
   "execution_count": 25,
   "metadata": {},
   "outputs": [],
   "source": [
    "nnp_list = world_list + myundong_list + sigungu_list + train_list + df_list"
   ]
  },
  {
   "cell_type": "code",
   "execution_count": 27,
   "metadata": {},
   "outputs": [
    {
     "data": {
      "text/plain": [
       "894"
      ]
     },
     "execution_count": 27,
     "metadata": {},
     "output_type": "execute_result"
    }
   ],
   "source": [
    "len(nnp_list)"
   ]
  },
  {
   "cell_type": "code",
   "execution_count": 28,
   "metadata": {},
   "outputs": [],
   "source": [
    "with open(\"nnp_list.pkl\", \"wb\") as f :\n",
    "    pickle.dump(nnp_list, f)"
   ]
  },
  {
   "cell_type": "code",
   "execution_count": 40,
   "metadata": {},
   "outputs": [
    {
     "data": {
      "text/plain": [
       "894"
      ]
     },
     "execution_count": 40,
     "metadata": {},
     "output_type": "execute_result"
    }
   ],
   "source": [
    "len(nnp_list)"
   ]
  },
  {
   "cell_type": "markdown",
   "metadata": {},
   "source": [
    "### 괄호 데이터 처리 로직 구현"
   ]
  },
  {
   "cell_type": "code",
   "execution_count": 101,
   "metadata": {},
   "outputs": [],
   "source": [
    "def bascket_remove(text) :\n",
    "    pat = re.compile(r\"\\([^)]*\\)|\\[[^)]*\\]\")\n",
    "    pat2 = re.compile(r'\\(|\\)|\\[|\\]')\n",
    "    # result = re.sub(pat2, '', text)]\n",
    "    bascket_find = re.findall(pat, text)\n",
    "    res = [pat2.sub(\"\",i) for i in bascket_find ]\n",
    "    for i in res :\n",
    "        try : \n",
    "            if nnp_list[nnp_list.index(i)] : \n",
    "                pattern = re.compile(f\"\\({i}\\)|\\[{i}\\]\")\n",
    "                delete = pattern.sub(\"\", text)     \n",
    "        except :\n",
    "            if i in algo.option_list :\n",
    "                pattern = re.compile(f\"\\({i}\\)|\\[{i}\\]\")\n",
    "                delete = pattern.sub(\"\", delete)\n",
    "    return delete\n"
   ]
  },
  {
   "cell_type": "code",
   "execution_count": 40,
   "metadata": {},
   "outputs": [],
   "source": [
    "def bascket_remove(text:str) :\n",
    "    \"\"\"_summary_\n",
    "\n",
    "    Args:\n",
    "        text (str): _description_\n",
    "\n",
    "    Returns:\n",
    "        str: _description_\n",
    "    \"\"\"\n",
    "    pat = re.compile(r\"\\([^)]*\\)|\\[[^)]*\\]\")\n",
    "    pat2 = re.compile(r'\\(|\\)|\\[|\\]')\n",
    "    bascket_find = re.findall(pat, text)\n",
    "    print(bascket_find)\n",
    "    if bascket_find : \n",
    "        res = [pat2.sub(\"\",i) for i in bascket_find ]\n",
    "        print(res)\n",
    "        for i in res :\n",
    "            try : #  있는 경우 고유명사 검사\n",
    "                print(\"??\")\n",
    "                if nnp_list[nnp_list.index(i)] : \n",
    "                    print(\"if 안\")\n",
    "                    pattern = re.compile(f\"\\({i}\\)|\\[{i}\\]\")\n",
    "                    sub_result = pattern.sub(\"\", text)  \n",
    "                return \"\".join(sub_result)   \n",
    "            except : # 없는 경우 옵션 검사\n",
    "                print(\"except\")\n",
    "                if i in algo.option_list :\n",
    "                    pattern = re.compile(f\"\\({i}\\)|\\[{i}\\]\")\n",
    "                    except_sub_result = pattern.sub(\"\", text)\n",
    "                if except_sub_result :\n",
    "                    return \"\".join(except_sub_result)\n",
    "    return text"
   ]
  },
  {
   "cell_type": "code",
   "execution_count": 46,
   "metadata": {},
   "outputs": [],
   "source": [
    "def bascket_remove(text:str) -> str :\n",
    "    pat = re.compile(r\"\\([^)]*\\)|\\[[^)]*\\]\")\n",
    "    bascket_find = pat.findall(text)\n",
    "    print(bascket_find)\n",
    "    if bascket_find : \n",
    "        pat2 = re.compile(\"\\(|\\)|\\[|\\]\")\n",
    "        res = [pat2.sub(\"\",i) for i in bascket_find ]\n",
    "        for j in res :\n",
    "            try : \n",
    "                if j in nnp_list[nnp_list.index(j)] :\n",
    "                    sub_result = pat.sub(\"\", text)\n",
    "            except :\n",
    "                except_result = pat.sub(\"\", text)\n",
    "                \n",
    "        return sub_result\n",
    "\n",
    "\n",
    "        # for j in res :\n",
    "            \n",
    "            # for i in res :\n",
    "            #     try : #  있는 경우 고유명사 검사\n",
    "            #         if nnp_list[nnp_list.index(i)] :\n",
    "            #             print(\"1\") \n",
    "            #             try_pattern = re.compile(f\"\\({i}\\)|\\[{i}\\]\")\n",
    "            #             sub_result = try_pattern.sub(\"\", text)  \n",
    "            #         return \"\".join(sub_result)   \n",
    "            #     except : # 없는 경우 옵션 검사\n",
    "            #         if i in self.option_list :\n",
    "            #             print(i)\n",
    "            #             except_pattern = re.compile(f\"\\({i}\\)|\\[{i}\\]\")\n",
    "            #             except_sub_result = except_pattern.sub(\"\", text)\n",
    "            #             print(except_sub_result)\n",
    "\n",
    "                    # if except_sub_result :\n",
    "                    #     return \"\".join(except_sub_result)"
   ]
  },
  {
   "cell_type": "code",
   "execution_count": 103,
   "metadata": {},
   "outputs": [],
   "source": [
    "# bascket_remove(\"[에그드랍] 에그 콥 샐러드(자체)\")"
   ]
  },
  {
   "cell_type": "code",
   "execution_count": null,
   "metadata": {},
   "outputs": [],
   "source": []
  },
  {
   "cell_type": "code",
   "execution_count": null,
   "metadata": {},
   "outputs": [],
   "source": []
  }
 ],
 "metadata": {
  "kernelspec": {
   "display_name": "base",
   "language": "python",
   "name": "python3"
  },
  "language_info": {
   "codemirror_mode": {
    "name": "ipython",
    "version": 3
   },
   "file_extension": ".py",
   "mimetype": "text/x-python",
   "name": "python",
   "nbconvert_exporter": "python",
   "pygments_lexer": "ipython3",
   "version": "3.9.13"
  },
  "orig_nbformat": 4,
  "vscode": {
   "interpreter": {
    "hash": "a077222d77dfe082b8f1dd562ad70e458ac2ab76993a0b248ab0476e32e9e8dd"
   }
  }
 },
 "nbformat": 4,
 "nbformat_minor": 2
}
