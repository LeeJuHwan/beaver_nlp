{
 "cells": [
  {
   "cell_type": "code",
   "execution_count": 1,
   "metadata": {},
   "outputs": [],
   "source": [
    "# !pip install kiwipiepy\n",
    "# !pip install jamo"
   ]
  },
  {
   "cell_type": "code",
   "execution_count": 2,
   "metadata": {},
   "outputs": [
    {
     "data": {
      "text/plain": [
       "'c:\\\\Users\\\\user\\\\Desktop\\\\started_from_the_bottom\\\\FINAL'"
      ]
     },
     "execution_count": 2,
     "metadata": {},
     "output_type": "execute_result"
    }
   ],
   "source": [
    "pwd"
   ]
  },
  {
   "cell_type": "code",
   "execution_count": 3,
   "metadata": {},
   "outputs": [],
   "source": [
    "import pandas as pd\n",
    "import numpy as np\n",
    "from functools import partial\n",
    "from collections import defaultdict\n",
    "\n",
    "from module.final import *\n",
    "\n",
    "import warnings\n",
    "warnings.filterwarnings(\"ignore\")"
   ]
  },
  {
   "cell_type": "code",
   "execution_count": 4,
   "metadata": {},
   "outputs": [],
   "source": [
    "WD = WordDict()\n",
    "AL = Algorithm()"
   ]
  },
  {
   "cell_type": "code",
   "execution_count": 5,
   "metadata": {},
   "outputs": [],
   "source": [
    "data = pd.read_excel('data./offerTrain.xlsx')"
   ]
  },
  {
   "attachments": {},
   "cell_type": "markdown",
   "metadata": {},
   "source": [
    "## 1. 표준화 사전 구축"
   ]
  },
  {
   "cell_type": "code",
   "execution_count": 6,
   "metadata": {},
   "outputs": [],
   "source": [
    "# data['상품명'].apply(lambda x:len(x)).value_counts()"
   ]
  },
  {
   "cell_type": "code",
   "execution_count": 7,
   "metadata": {},
   "outputs": [],
   "source": [
    "train = data[['상품명', '표준상품명']]\n",
    "train.drop_duplicates(inplace=True)"
   ]
  },
  {
   "cell_type": "code",
   "execution_count": 8,
   "metadata": {},
   "outputs": [],
   "source": [
    "train['상품명'] = train['상품명'].apply(AL.text_clean)"
   ]
  },
  {
   "cell_type": "code",
   "execution_count": 9,
   "metadata": {},
   "outputs": [],
   "source": [
    "def bracket_clear(txt):\n",
    "    txt = txt.replace('(', '')\n",
    "    txt = txt.replace(')', '')\n",
    "    if txt == '알수없음':\n",
    "        return '-'\n",
    "    return txt"
   ]
  },
  {
   "cell_type": "code",
   "execution_count": 10,
   "metadata": {},
   "outputs": [],
   "source": [
    "train['표준상품명'] = train['표준상품명'].apply(bracket_clear)"
   ]
  },
  {
   "cell_type": "code",
   "execution_count": 11,
   "metadata": {},
   "outputs": [],
   "source": [
    "train['상품명_길이'] = train['상품명'].apply(lambda x:len(x))\n",
    "train['표준상품명_길이'] = train['표준상품명'].apply(lambda x:len(x))\n",
    "\n",
    "train['상품명_요소'] = train['상품명'].apply(lambda x:len(x.split(' ')))\n",
    "train['표준상품명_요소'] = train['표준상품명'].apply(lambda x:len(x.split(' ')))\n",
    "\n",
    "train['길이차이'] = train['표준상품명_길이'] - train['상품명_길이']\n",
    "train['요소차이'] = train['표준상품명_요소'] - train['상품명_요소']"
   ]
  },
  {
   "cell_type": "code",
   "execution_count": 12,
   "metadata": {},
   "outputs": [],
   "source": [
    "cond1 = train['표준상품명'] != '-'\n",
    "cond2 = train['표준상품명'] == '-'\n",
    "option_11 = train[cond1]\n",
    "option_12 = train[cond2]"
   ]
  },
  {
   "cell_type": "code",
   "execution_count": 13,
   "metadata": {},
   "outputs": [],
   "source": [
    "cond1 = train['상품명_길이'] > 1\n",
    "cond2 = train['표준상품명_길이'] > 1\n",
    "train = train[cond1 & cond2]"
   ]
  },
  {
   "attachments": {},
   "cell_type": "markdown",
   "metadata": {},
   "source": [
    "## 1.1. 길이차이 0 인 경우"
   ]
  },
  {
   "cell_type": "code",
   "execution_count": 14,
   "metadata": {},
   "outputs": [],
   "source": [
    "cond1 = train['길이차이'] == 0\n",
    "cond2 = train['요소차이'] == 0\n",
    "res_df_1 = train[cond1 & cond2]"
   ]
  },
  {
   "cell_type": "code",
   "execution_count": 15,
   "metadata": {},
   "outputs": [],
   "source": [
    "# 표준화 사전에 집어넣기\n",
    "res_df_121 = res_df_1[res_df_1['상품명'] == res_df_1['표준상품명']]\n",
    "res_df_122 = res_df_1[res_df_1['상품명'] != res_df_1['표준상품명']]"
   ]
  },
  {
   "cell_type": "code",
   "execution_count": 16,
   "metadata": {},
   "outputs": [
    {
     "data": {
      "text/html": [
       "<div>\n",
       "<style scoped>\n",
       "    .dataframe tbody tr th:only-of-type {\n",
       "        vertical-align: middle;\n",
       "    }\n",
       "\n",
       "    .dataframe tbody tr th {\n",
       "        vertical-align: top;\n",
       "    }\n",
       "\n",
       "    .dataframe thead th {\n",
       "        text-align: right;\n",
       "    }\n",
       "</style>\n",
       "<table border=\"1\" class=\"dataframe\">\n",
       "  <thead>\n",
       "    <tr style=\"text-align: right;\">\n",
       "      <th></th>\n",
       "      <th>상품명</th>\n",
       "      <th>표준상품명</th>\n",
       "      <th>상품명_길이</th>\n",
       "      <th>표준상품명_길이</th>\n",
       "      <th>상품명_요소</th>\n",
       "      <th>표준상품명_요소</th>\n",
       "      <th>길이차이</th>\n",
       "      <th>요소차이</th>\n",
       "    </tr>\n",
       "  </thead>\n",
       "  <tbody>\n",
       "    <tr>\n",
       "      <th>177408</th>\n",
       "      <td>미숫가루</td>\n",
       "      <td>미숫가루</td>\n",
       "      <td>4</td>\n",
       "      <td>4</td>\n",
       "      <td>1</td>\n",
       "      <td>1</td>\n",
       "      <td>0</td>\n",
       "      <td>0</td>\n",
       "    </tr>\n",
       "    <tr>\n",
       "      <th>207900</th>\n",
       "      <td>분모자 떡볶이</td>\n",
       "      <td>분모자 떡볶이</td>\n",
       "      <td>7</td>\n",
       "      <td>7</td>\n",
       "      <td>2</td>\n",
       "      <td>2</td>\n",
       "      <td>0</td>\n",
       "      <td>0</td>\n",
       "    </tr>\n",
       "    <tr>\n",
       "      <th>155620</th>\n",
       "      <td>마라샹궈</td>\n",
       "      <td>마라샹궈</td>\n",
       "      <td>4</td>\n",
       "      <td>4</td>\n",
       "      <td>1</td>\n",
       "      <td>1</td>\n",
       "      <td>0</td>\n",
       "      <td>0</td>\n",
       "    </tr>\n",
       "    <tr>\n",
       "      <th>120265</th>\n",
       "      <td>데미소다</td>\n",
       "      <td>데미소다</td>\n",
       "      <td>4</td>\n",
       "      <td>4</td>\n",
       "      <td>1</td>\n",
       "      <td>1</td>\n",
       "      <td>0</td>\n",
       "      <td>0</td>\n",
       "    </tr>\n",
       "    <tr>\n",
       "      <th>245199</th>\n",
       "      <td>시트러스 자몽 얼그레이</td>\n",
       "      <td>시트러스 자몽 얼그레이</td>\n",
       "      <td>12</td>\n",
       "      <td>12</td>\n",
       "      <td>3</td>\n",
       "      <td>3</td>\n",
       "      <td>0</td>\n",
       "      <td>0</td>\n",
       "    </tr>\n",
       "  </tbody>\n",
       "</table>\n",
       "</div>"
      ],
      "text/plain": [
       "                 상품명         표준상품명  상품명_길이  표준상품명_길이  상품명_요소  표준상품명_요소  길이차이  \\\n",
       "177408          미숫가루          미숫가루       4         4       1         1     0   \n",
       "207900       분모자 떡볶이       분모자 떡볶이       7         7       2         2     0   \n",
       "155620          마라샹궈          마라샹궈       4         4       1         1     0   \n",
       "120265          데미소다          데미소다       4         4       1         1     0   \n",
       "245199  시트러스 자몽 얼그레이  시트러스 자몽 얼그레이      12        12       3         3     0   \n",
       "\n",
       "        요소차이  \n",
       "177408     0  \n",
       "207900     0  \n",
       "155620     0  \n",
       "120265     0  \n",
       "245199     0  "
      ]
     },
     "execution_count": 16,
     "metadata": {},
     "output_type": "execute_result"
    }
   ],
   "source": [
    "res_df_121.sample(5)"
   ]
  },
  {
   "cell_type": "code",
   "execution_count": 17,
   "metadata": {},
   "outputs": [
    {
     "name": "stderr",
     "output_type": "stream",
     "text": [
      "100%|██████████| 13453/13453 [00:50<00:00, 266.01it/s] \n"
     ]
    }
   ],
   "source": [
    "for words in tqdm(res_df_121['표준상품명']):\n",
    "    # print(words)\n",
    "    wordsList = words.split(' ')\n",
    "    for idx, word in enumerate(wordsList):\n",
    "        # print(word)\n",
    "        WD.updateDictonary(word, word, len(wordsList)-idx, type='c')"
   ]
  },
  {
   "cell_type": "code",
   "execution_count": 18,
   "metadata": {},
   "outputs": [
    {
     "data": {
      "text/plain": [
       "{'wordList': {'마카롱'},\n",
       " 'idxList': [1,\n",
       "  1,\n",
       "  1,\n",
       "  1,\n",
       "  1,\n",
       "  1,\n",
       "  1,\n",
       "  1,\n",
       "  1,\n",
       "  1,\n",
       "  1,\n",
       "  1,\n",
       "  1,\n",
       "  1,\n",
       "  1,\n",
       "  1,\n",
       "  1,\n",
       "  1,\n",
       "  1,\n",
       "  1,\n",
       "  1,\n",
       "  1,\n",
       "  1,\n",
       "  1,\n",
       "  2,\n",
       "  1,\n",
       "  1,\n",
       "  1,\n",
       "  1,\n",
       "  1,\n",
       "  1,\n",
       "  1,\n",
       "  1,\n",
       "  1,\n",
       "  1,\n",
       "  1,\n",
       "  1,\n",
       "  1,\n",
       "  1,\n",
       "  1,\n",
       "  1,\n",
       "  1,\n",
       "  1,\n",
       "  1,\n",
       "  1,\n",
       "  1,\n",
       "  1,\n",
       "  1,\n",
       "  1,\n",
       "  1,\n",
       "  1,\n",
       "  1,\n",
       "  1,\n",
       "  1,\n",
       "  1,\n",
       "  1,\n",
       "  1,\n",
       "  1,\n",
       "  1],\n",
       " 'mean': 1.0169491525423728}"
      ]
     },
     "execution_count": 18,
     "metadata": {},
     "output_type": "execute_result"
    }
   ],
   "source": [
    "WD.StandardDict['마카롱']"
   ]
  },
  {
   "cell_type": "code",
   "execution_count": 19,
   "metadata": {},
   "outputs": [],
   "source": [
    "def element_set(txt):\n",
    "    return set(txt.split(' '))"
   ]
  },
  {
   "cell_type": "code",
   "execution_count": 20,
   "metadata": {},
   "outputs": [],
   "source": [
    "def set_check(df, same):\n",
    "    if same:\n",
    "        res = df[df['상품명'].apply(element_set) == df['표준상품명'].apply(element_set)]\n",
    "        return res\n",
    "    res = df[df['상품명'].apply(element_set) != df['표준상품명'].apply(element_set)]\n",
    "    return res"
   ]
  },
  {
   "cell_type": "code",
   "execution_count": 21,
   "metadata": {},
   "outputs": [],
   "source": [
    "res_df_131 = set_check(res_df_122, True)\n",
    "res_df_132 = set_check(res_df_122, False)"
   ]
  },
  {
   "cell_type": "code",
   "execution_count": 22,
   "metadata": {},
   "outputs": [
    {
     "data": {
      "text/html": [
       "<div>\n",
       "<style scoped>\n",
       "    .dataframe tbody tr th:only-of-type {\n",
       "        vertical-align: middle;\n",
       "    }\n",
       "\n",
       "    .dataframe tbody tr th {\n",
       "        vertical-align: top;\n",
       "    }\n",
       "\n",
       "    .dataframe thead th {\n",
       "        text-align: right;\n",
       "    }\n",
       "</style>\n",
       "<table border=\"1\" class=\"dataframe\">\n",
       "  <thead>\n",
       "    <tr style=\"text-align: right;\">\n",
       "      <th></th>\n",
       "      <th>상품명</th>\n",
       "      <th>표준상품명</th>\n",
       "      <th>상품명_길이</th>\n",
       "      <th>표준상품명_길이</th>\n",
       "      <th>상품명_요소</th>\n",
       "      <th>표준상품명_요소</th>\n",
       "      <th>길이차이</th>\n",
       "      <th>요소차이</th>\n",
       "    </tr>\n",
       "  </thead>\n",
       "  <tbody>\n",
       "    <tr>\n",
       "      <th>307480</th>\n",
       "      <td>스프라이트 제로</td>\n",
       "      <td>제로 스프라이트</td>\n",
       "      <td>8</td>\n",
       "      <td>8</td>\n",
       "      <td>2</td>\n",
       "      <td>2</td>\n",
       "      <td>0</td>\n",
       "      <td>0</td>\n",
       "    </tr>\n",
       "    <tr>\n",
       "      <th>209912</th>\n",
       "      <td>쿠키 브라우니</td>\n",
       "      <td>브라우니 쿠키</td>\n",
       "      <td>7</td>\n",
       "      <td>7</td>\n",
       "      <td>2</td>\n",
       "      <td>2</td>\n",
       "      <td>0</td>\n",
       "      <td>0</td>\n",
       "    </tr>\n",
       "    <tr>\n",
       "      <th>127345</th>\n",
       "      <td>콜드브루 디카페인 라떼</td>\n",
       "      <td>디카페인 콜드브루 라떼</td>\n",
       "      <td>12</td>\n",
       "      <td>12</td>\n",
       "      <td>3</td>\n",
       "      <td>3</td>\n",
       "      <td>0</td>\n",
       "      <td>0</td>\n",
       "    </tr>\n",
       "    <tr>\n",
       "      <th>307598</th>\n",
       "      <td>웰치스 포도맛 제로</td>\n",
       "      <td>제로 웰치스 포도맛</td>\n",
       "      <td>10</td>\n",
       "      <td>10</td>\n",
       "      <td>3</td>\n",
       "      <td>3</td>\n",
       "      <td>0</td>\n",
       "      <td>0</td>\n",
       "    </tr>\n",
       "    <tr>\n",
       "      <th>407294</th>\n",
       "      <td>마카롱 한라봉</td>\n",
       "      <td>한라봉 마카롱</td>\n",
       "      <td>7</td>\n",
       "      <td>7</td>\n",
       "      <td>2</td>\n",
       "      <td>2</td>\n",
       "      <td>0</td>\n",
       "      <td>0</td>\n",
       "    </tr>\n",
       "  </tbody>\n",
       "</table>\n",
       "</div>"
      ],
      "text/plain": [
       "                 상품명         표준상품명  상품명_길이  표준상품명_길이  상품명_요소  표준상품명_요소  길이차이  \\\n",
       "307480      스프라이트 제로      제로 스프라이트       8         8       2         2     0   \n",
       "209912       쿠키 브라우니       브라우니 쿠키       7         7       2         2     0   \n",
       "127345  콜드브루 디카페인 라떼  디카페인 콜드브루 라떼      12        12       3         3     0   \n",
       "307598    웰치스 포도맛 제로    제로 웰치스 포도맛      10        10       3         3     0   \n",
       "407294       마카롱 한라봉       한라봉 마카롱       7         7       2         2     0   \n",
       "\n",
       "        요소차이  \n",
       "307480     0  \n",
       "209912     0  \n",
       "127345     0  \n",
       "307598     0  \n",
       "407294     0  "
      ]
     },
     "execution_count": 22,
     "metadata": {},
     "output_type": "execute_result"
    }
   ],
   "source": [
    "res_df_131.sample(5)"
   ]
  },
  {
   "cell_type": "code",
   "execution_count": 23,
   "metadata": {},
   "outputs": [
    {
     "name": "stderr",
     "output_type": "stream",
     "text": [
      "100%|██████████| 157/157 [00:00<00:00, 1575.20it/s]\n"
     ]
    }
   ],
   "source": [
    "for words in tqdm(res_df_131['표준상품명']):\n",
    "    # print(words)\n",
    "    wordsList = words.split(' ')\n",
    "    for idx, word in enumerate(wordsList):\n",
    "        # print(word)\n",
    "        WD.updateDictonary(word, word, len(wordsList)-idx, type='c')"
   ]
  },
  {
   "cell_type": "code",
   "execution_count": 24,
   "metadata": {},
   "outputs": [],
   "source": [
    "cond1 = res_df_132['상품명_요소'] == 1\n",
    "res_df_141 = res_df_132[cond1]"
   ]
  },
  {
   "cell_type": "code",
   "execution_count": 25,
   "metadata": {},
   "outputs": [
    {
     "name": "stderr",
     "output_type": "stream",
     "text": [
      "669it [00:04, 136.76it/s]\n"
     ]
    }
   ],
   "source": [
    "for ori, std in tqdm(zip(res_df_141['상품명'], res_df_141['표준상품명'])):\n",
    "    # print(std, ori)\n",
    "    WD.updateDictonary(std, ori, 1, type='c')"
   ]
  },
  {
   "cell_type": "code",
   "execution_count": 26,
   "metadata": {},
   "outputs": [],
   "source": [
    "cond1 = res_df_132['상품명_요소'] == 2\n",
    "res_df_142 = res_df_132[cond1]"
   ]
  },
  {
   "cell_type": "code",
   "execution_count": 27,
   "metadata": {},
   "outputs": [],
   "source": [
    "def ele_length_same(row):\n",
    "    for origin, std in zip(row['상품명'].split(' '), row['표준상품명'].split(' ')):\n",
    "        if len(origin) != len(std):\n",
    "            return False\n",
    "    return True"
   ]
  },
  {
   "cell_type": "code",
   "execution_count": 28,
   "metadata": {},
   "outputs": [],
   "source": [
    "res_df_151 = res_df_142[res_df_142.apply(ele_length_same, axis=1) == True]\n",
    "res_df_152 = res_df_142[res_df_142.apply(ele_length_same, axis=1) != True]"
   ]
  },
  {
   "cell_type": "code",
   "execution_count": 29,
   "metadata": {},
   "outputs": [],
   "source": [
    "def set_cha(row):\n",
    "    originSet = set(row['상품명'].split(' '))\n",
    "    stdSet = set(row['표준상품명'].split(' '))\n",
    "    x = list(originSet - stdSet)\n",
    "    y = list(stdSet - originSet)\n",
    "    # print(x, y)\n",
    "    if len(x+y) == 2:\n",
    "        return x[0], y[0]\n",
    "    if len(x+y) == 3:\n",
    "        return ' '.join(x), ' '.join(y)\n",
    "    return None"
   ]
  },
  {
   "cell_type": "code",
   "execution_count": 30,
   "metadata": {},
   "outputs": [
    {
     "data": {
      "text/html": [
       "<div>\n",
       "<style scoped>\n",
       "    .dataframe tbody tr th:only-of-type {\n",
       "        vertical-align: middle;\n",
       "    }\n",
       "\n",
       "    .dataframe tbody tr th {\n",
       "        vertical-align: top;\n",
       "    }\n",
       "\n",
       "    .dataframe thead th {\n",
       "        text-align: right;\n",
       "    }\n",
       "</style>\n",
       "<table border=\"1\" class=\"dataframe\">\n",
       "  <thead>\n",
       "    <tr style=\"text-align: right;\">\n",
       "      <th></th>\n",
       "      <th>상품명</th>\n",
       "      <th>표준상품명</th>\n",
       "      <th>상품명_길이</th>\n",
       "      <th>표준상품명_길이</th>\n",
       "      <th>상품명_요소</th>\n",
       "      <th>표준상품명_요소</th>\n",
       "      <th>길이차이</th>\n",
       "      <th>요소차이</th>\n",
       "    </tr>\n",
       "  </thead>\n",
       "  <tbody>\n",
       "    <tr>\n",
       "      <th>329916</th>\n",
       "      <td>초코 테린느</td>\n",
       "      <td>초코 케이크</td>\n",
       "      <td>6</td>\n",
       "      <td>6</td>\n",
       "      <td>2</td>\n",
       "      <td>2</td>\n",
       "      <td>0</td>\n",
       "      <td>0</td>\n",
       "    </tr>\n",
       "    <tr>\n",
       "      <th>194301</th>\n",
       "      <td>밤 까페라떼</td>\n",
       "      <td>밤 카페라떼</td>\n",
       "      <td>6</td>\n",
       "      <td>6</td>\n",
       "      <td>2</td>\n",
       "      <td>2</td>\n",
       "      <td>0</td>\n",
       "      <td>0</td>\n",
       "    </tr>\n",
       "    <tr>\n",
       "      <th>364474</th>\n",
       "      <td>카라멜 마키아또</td>\n",
       "      <td>캐러멜 마키아토</td>\n",
       "      <td>8</td>\n",
       "      <td>8</td>\n",
       "      <td>2</td>\n",
       "      <td>2</td>\n",
       "      <td>0</td>\n",
       "      <td>0</td>\n",
       "    </tr>\n",
       "    <tr>\n",
       "      <th>99858</th>\n",
       "      <td>깔루아 마끼야또</td>\n",
       "      <td>깔루아 마키아토</td>\n",
       "      <td>8</td>\n",
       "      <td>8</td>\n",
       "      <td>2</td>\n",
       "      <td>2</td>\n",
       "      <td>0</td>\n",
       "      <td>0</td>\n",
       "    </tr>\n",
       "    <tr>\n",
       "      <th>204154</th>\n",
       "      <td>복숭아 뚱카롱</td>\n",
       "      <td>복숭아 마카롱</td>\n",
       "      <td>7</td>\n",
       "      <td>7</td>\n",
       "      <td>2</td>\n",
       "      <td>2</td>\n",
       "      <td>0</td>\n",
       "      <td>0</td>\n",
       "    </tr>\n",
       "  </tbody>\n",
       "</table>\n",
       "</div>"
      ],
      "text/plain": [
       "             상품명     표준상품명  상품명_길이  표준상품명_길이  상품명_요소  표준상품명_요소  길이차이  요소차이\n",
       "329916    초코 테린느    초코 케이크       6         6       2         2     0     0\n",
       "194301    밤 까페라떼    밤 카페라떼       6         6       2         2     0     0\n",
       "364474  카라멜 마키아또  캐러멜 마키아토       8         8       2         2     0     0\n",
       "99858   깔루아 마끼야또  깔루아 마키아토       8         8       2         2     0     0\n",
       "204154   복숭아 뚱카롱   복숭아 마카롱       7         7       2         2     0     0"
      ]
     },
     "execution_count": 30,
     "metadata": {},
     "output_type": "execute_result"
    }
   ],
   "source": [
    "res_df_151.sample(5)"
   ]
  },
  {
   "cell_type": "code",
   "execution_count": 31,
   "metadata": {},
   "outputs": [
    {
     "name": "stderr",
     "output_type": "stream",
     "text": [
      "773it [00:03, 206.27it/s]\n"
     ]
    }
   ],
   "source": [
    "idx = res_df_151.apply(set_cha, axis=1).notnull()\n",
    "res = res_df_151.apply(set_cha, axis=1)[idx]\n",
    "\n",
    "for ori, std in tqdm(zip(res.str[0], res.str[1])):\n",
    "    # print(std, ori)\n",
    "    WD.updateDictonary(std, ori, 1, type='c')\n"
   ]
  },
  {
   "cell_type": "code",
   "execution_count": 42,
   "metadata": {},
   "outputs": [
    {
     "data": {
      "text/plain": [
       "{'wordList': {'리조떡'}, 'idxList': [1], 'mean': 1.0}"
      ]
     },
     "execution_count": 42,
     "metadata": {},
     "output_type": "execute_result"
    }
   ],
   "source": [
    "WD.StandardDict['리조또']"
   ]
  },
  {
   "attachments": {},
   "cell_type": "markdown",
   "metadata": {},
   "source": [
    "## 1.2. 요소차이 1인 경우"
   ]
  },
  {
   "cell_type": "code",
   "execution_count": 33,
   "metadata": {},
   "outputs": [],
   "source": [
    "cond1 = train['요소차이'] == -1\n",
    "res_df_2 = train[cond1]"
   ]
  },
  {
   "cell_type": "code",
   "execution_count": 34,
   "metadata": {},
   "outputs": [],
   "source": [
    "def element_join(row):\n",
    "    if row['상품명'].replace(' ', '') == row['표준상품명'].replace(' ', ''):\n",
    "        return True\n",
    "    return False"
   ]
  },
  {
   "cell_type": "code",
   "execution_count": 35,
   "metadata": {},
   "outputs": [],
   "source": [
    "res_df_221 = res_df_2[res_df_2.apply(element_join, axis=1) == True]"
   ]
  },
  {
   "cell_type": "code",
   "execution_count": 36,
   "metadata": {},
   "outputs": [],
   "source": [
    "cond1 = res_df_221['상품명_요소'] == 2\n",
    "res_df_2212 = res_df_221[cond1]\n",
    "cond1 = res_df_221['상품명_요소'] == 3\n",
    "res_df_2213 = res_df_221[cond1]\n",
    "cond1 = res_df_221['상품명_요소'] == 4\n",
    "res_df_2214 = res_df_221[cond1]"
   ]
  },
  {
   "cell_type": "code",
   "execution_count": 37,
   "metadata": {},
   "outputs": [
    {
     "data": {
      "text/plain": [
       "74963         (쥬스, 주스)\n",
       "76001         (쥬스, 주스)\n",
       "76077       (生연어, 생연어)\n",
       "76489         (쥬스, 주스)\n",
       "76495         (쥬스, 주스)\n",
       "              ...     \n",
       "427080      (쉐이크, 셰이크)\n",
       "427082      (쉐이크, 셰이크)\n",
       "427222    (카스테라, 카스텔라)\n",
       "427313      (테린느, 케이크)\n",
       "427333    (크로와상, 크루아상)\n",
       "Length: 773, dtype: object"
      ]
     },
     "execution_count": 37,
     "metadata": {},
     "output_type": "execute_result"
    }
   ],
   "source": [
    "res"
   ]
  },
  {
   "cell_type": "code",
   "execution_count": 38,
   "metadata": {},
   "outputs": [
    {
     "name": "stderr",
     "output_type": "stream",
     "text": [
      "442it [00:03, 136.76it/s]\n",
      "195it [00:01, 166.66it/s]\n"
     ]
    }
   ],
   "source": [
    "for df in [res_df_2212, res_df_2213]:\n",
    "    idx = df.apply(set_cha, axis=1).notnull()\n",
    "    res = df.apply(set_cha, axis=1)[idx]\n",
    "    for ori, std in tqdm(zip(res.str[0], res.str[1])):\n",
    "        # print(std, ori)\n",
    "        WD.updateDictonary(std, ori, 1, type='c')"
   ]
  },
  {
   "cell_type": "code",
   "execution_count": 39,
   "metadata": {},
   "outputs": [],
   "source": [
    "import pickle as pk"
   ]
  },
  {
   "cell_type": "code",
   "execution_count": 40,
   "metadata": {},
   "outputs": [],
   "source": [
    "# save\n",
    "with open('WD.StandardDict.p', 'wb') as f:\n",
    "    pk.dump(WD.StandardDict, f)\n",
    "\n",
    "# load\n",
    "with open('WD.StandardDict.p', 'rb') as f:\n",
    "    data = pk.load(f)"
   ]
  },
  {
   "cell_type": "code",
   "execution_count": 41,
   "metadata": {},
   "outputs": [],
   "source": [
    "# save\n",
    "with open('WD.WordToStandard.p', 'wb') as f:\n",
    "    pk.dump(WD.WordToStandard, f)\n",
    "\n",
    "# load\n",
    "with open('WD.WordToStandard.p', 'rb') as f:\n",
    "    data = pk.load(f)"
   ]
  },
  {
   "cell_type": "code",
   "execution_count": 53,
   "metadata": {},
   "outputs": [
    {
     "data": {
      "text/html": [
       "<div>\n",
       "<style scoped>\n",
       "    .dataframe tbody tr th:only-of-type {\n",
       "        vertical-align: middle;\n",
       "    }\n",
       "\n",
       "    .dataframe tbody tr th {\n",
       "        vertical-align: top;\n",
       "    }\n",
       "\n",
       "    .dataframe thead th {\n",
       "        text-align: right;\n",
       "    }\n",
       "</style>\n",
       "<table border=\"1\" class=\"dataframe\">\n",
       "  <thead>\n",
       "    <tr style=\"text-align: right;\">\n",
       "      <th></th>\n",
       "      <th>상품명</th>\n",
       "      <th>표준상품명</th>\n",
       "    </tr>\n",
       "  </thead>\n",
       "  <tbody>\n",
       "    <tr>\n",
       "      <th>127748</th>\n",
       "      <td>딸기 그릭요거트</td>\n",
       "      <td>딸기 그릭요거트</td>\n",
       "    </tr>\n",
       "    <tr>\n",
       "      <th>424780</th>\n",
       "      <td>휘낭시에 시나몬</td>\n",
       "      <td>휘낭시에 시나몬</td>\n",
       "    </tr>\n",
       "    <tr>\n",
       "      <th>98559</th>\n",
       "      <td>김치찌개 정식</td>\n",
       "      <td>김치찌개 정식</td>\n",
       "    </tr>\n",
       "    <tr>\n",
       "      <th>356770</th>\n",
       "      <td>카페라떼</td>\n",
       "      <td>카페라떼</td>\n",
       "    </tr>\n",
       "    <tr>\n",
       "      <th>227060</th>\n",
       "      <td>생강 라떼</td>\n",
       "      <td>생강 라떼</td>\n",
       "    </tr>\n",
       "  </tbody>\n",
       "</table>\n",
       "</div>"
      ],
      "text/plain": [
       "             상품명     표준상품명\n",
       "127748  딸기 그릭요거트  딸기 그릭요거트\n",
       "424780  휘낭시에 시나몬  휘낭시에 시나몬\n",
       "98559    김치찌개 정식   김치찌개 정식\n",
       "356770      카페라떼      카페라떼\n",
       "227060     생강 라떼     생강 라떼"
      ]
     },
     "execution_count": 53,
     "metadata": {},
     "output_type": "execute_result"
    }
   ],
   "source": [
    "res_df_121[['상품명','표준상품명']].sample(5)"
   ]
  },
  {
   "cell_type": "code",
   "execution_count": 54,
   "metadata": {},
   "outputs": [
    {
     "data": {
      "text/html": [
       "<div>\n",
       "<style scoped>\n",
       "    .dataframe tbody tr th:only-of-type {\n",
       "        vertical-align: middle;\n",
       "    }\n",
       "\n",
       "    .dataframe tbody tr th {\n",
       "        vertical-align: top;\n",
       "    }\n",
       "\n",
       "    .dataframe thead th {\n",
       "        text-align: right;\n",
       "    }\n",
       "</style>\n",
       "<table border=\"1\" class=\"dataframe\">\n",
       "  <thead>\n",
       "    <tr style=\"text-align: right;\">\n",
       "      <th></th>\n",
       "      <th>상품명</th>\n",
       "      <th>표준상품명</th>\n",
       "    </tr>\n",
       "  </thead>\n",
       "  <tbody>\n",
       "    <tr>\n",
       "      <th>87213</th>\n",
       "      <td>골드메달 스파클링 애플 주스</td>\n",
       "      <td>골드메달 애플 스파클링 주스</td>\n",
       "    </tr>\n",
       "    <tr>\n",
       "      <th>123874</th>\n",
       "      <td>마카롱 돼지바</td>\n",
       "      <td>돼지바 마카롱</td>\n",
       "    </tr>\n",
       "    <tr>\n",
       "      <th>331808</th>\n",
       "      <td>머핀 초코칩</td>\n",
       "      <td>초코칩 머핀</td>\n",
       "    </tr>\n",
       "    <tr>\n",
       "      <th>266377</th>\n",
       "      <td>베이글 어니언</td>\n",
       "      <td>어니언 베이글</td>\n",
       "    </tr>\n",
       "    <tr>\n",
       "      <th>127345</th>\n",
       "      <td>콜드브루 디카페인 라떼</td>\n",
       "      <td>디카페인 콜드브루 라떼</td>\n",
       "    </tr>\n",
       "  </tbody>\n",
       "</table>\n",
       "</div>"
      ],
      "text/plain": [
       "                    상품명            표준상품명\n",
       "87213   골드메달 스파클링 애플 주스  골드메달 애플 스파클링 주스\n",
       "123874          마카롱 돼지바          돼지바 마카롱\n",
       "331808           머핀 초코칩           초코칩 머핀\n",
       "266377          베이글 어니언          어니언 베이글\n",
       "127345     콜드브루 디카페인 라떼     디카페인 콜드브루 라떼"
      ]
     },
     "execution_count": 54,
     "metadata": {},
     "output_type": "execute_result"
    }
   ],
   "source": [
    "res_df_131[['상품명','표준상품명']].sample(5)"
   ]
  },
  {
   "cell_type": "code",
   "execution_count": 55,
   "metadata": {},
   "outputs": [
    {
     "data": {
      "text/html": [
       "<div>\n",
       "<style scoped>\n",
       "    .dataframe tbody tr th:only-of-type {\n",
       "        vertical-align: middle;\n",
       "    }\n",
       "\n",
       "    .dataframe tbody tr th {\n",
       "        vertical-align: top;\n",
       "    }\n",
       "\n",
       "    .dataframe thead th {\n",
       "        text-align: right;\n",
       "    }\n",
       "</style>\n",
       "<table border=\"1\" class=\"dataframe\">\n",
       "  <thead>\n",
       "    <tr style=\"text-align: right;\">\n",
       "      <th></th>\n",
       "      <th>상품명</th>\n",
       "      <th>표준상품명</th>\n",
       "    </tr>\n",
       "  </thead>\n",
       "  <tbody>\n",
       "    <tr>\n",
       "      <th>231764</th>\n",
       "      <td>슬러쉬</td>\n",
       "      <td>셰이크</td>\n",
       "    </tr>\n",
       "    <tr>\n",
       "      <th>260658</th>\n",
       "      <td>얼룩소프트</td>\n",
       "      <td>아이스크림</td>\n",
       "    </tr>\n",
       "    <tr>\n",
       "      <th>118326</th>\n",
       "      <td>닭도리탕</td>\n",
       "      <td>닭볶음탕</td>\n",
       "    </tr>\n",
       "    <tr>\n",
       "      <th>267051</th>\n",
       "      <td>오뎅</td>\n",
       "      <td>어묵</td>\n",
       "    </tr>\n",
       "    <tr>\n",
       "      <th>230267</th>\n",
       "      <td>샤인머스켓</td>\n",
       "      <td>샤인머스캣</td>\n",
       "    </tr>\n",
       "  </tbody>\n",
       "</table>\n",
       "</div>"
      ],
      "text/plain": [
       "          상품명  표준상품명\n",
       "231764    슬러쉬    셰이크\n",
       "260658  얼룩소프트  아이스크림\n",
       "118326   닭도리탕   닭볶음탕\n",
       "267051     오뎅     어묵\n",
       "230267  샤인머스켓  샤인머스캣"
      ]
     },
     "execution_count": 55,
     "metadata": {},
     "output_type": "execute_result"
    }
   ],
   "source": [
    "res_df_141[['상품명','표준상품명']].sample(5)"
   ]
  },
  {
   "cell_type": "code",
   "execution_count": 56,
   "metadata": {},
   "outputs": [
    {
     "data": {
      "text/html": [
       "<div>\n",
       "<style scoped>\n",
       "    .dataframe tbody tr th:only-of-type {\n",
       "        vertical-align: middle;\n",
       "    }\n",
       "\n",
       "    .dataframe tbody tr th {\n",
       "        vertical-align: top;\n",
       "    }\n",
       "\n",
       "    .dataframe thead th {\n",
       "        text-align: right;\n",
       "    }\n",
       "</style>\n",
       "<table border=\"1\" class=\"dataframe\">\n",
       "  <thead>\n",
       "    <tr style=\"text-align: right;\">\n",
       "      <th></th>\n",
       "      <th>상품명</th>\n",
       "      <th>표준상품명</th>\n",
       "    </tr>\n",
       "  </thead>\n",
       "  <tbody>\n",
       "    <tr>\n",
       "      <th>403205</th>\n",
       "      <td>풀드포크 부리또</td>\n",
       "      <td>풀드포크 부리토</td>\n",
       "    </tr>\n",
       "    <tr>\n",
       "      <th>362299</th>\n",
       "      <td>카라멜 다쿠아즈</td>\n",
       "      <td>캐러멜 다쿠아즈</td>\n",
       "    </tr>\n",
       "    <tr>\n",
       "      <th>177945</th>\n",
       "      <td>퐁숫가루 프라페</td>\n",
       "      <td>미숫가루 프라페</td>\n",
       "    </tr>\n",
       "    <tr>\n",
       "      <th>418631</th>\n",
       "      <td>헤이즐럿 라테</td>\n",
       "      <td>헤이즐넛 라떼</td>\n",
       "    </tr>\n",
       "    <tr>\n",
       "      <th>310845</th>\n",
       "      <td>조리퐁 쉐이크</td>\n",
       "      <td>죠리퐁 셰이크</td>\n",
       "    </tr>\n",
       "  </tbody>\n",
       "</table>\n",
       "</div>"
      ],
      "text/plain": [
       "             상품명     표준상품명\n",
       "403205  풀드포크 부리또  풀드포크 부리토\n",
       "362299  카라멜 다쿠아즈  캐러멜 다쿠아즈\n",
       "177945  퐁숫가루 프라페  미숫가루 프라페\n",
       "418631   헤이즐럿 라테   헤이즐넛 라떼\n",
       "310845   조리퐁 쉐이크   죠리퐁 셰이크"
      ]
     },
     "execution_count": 56,
     "metadata": {},
     "output_type": "execute_result"
    }
   ],
   "source": [
    "res_df_151[['상품명','표준상품명']].sample(5)"
   ]
  },
  {
   "cell_type": "code",
   "execution_count": 62,
   "metadata": {},
   "outputs": [],
   "source": [
    "ls=[]\n",
    "for df in [res_df_2212, res_df_2213]:\n",
    "    idx = df.apply(set_cha, axis=1).notnull()\n",
    "    res = df.apply(set_cha, axis=1)[idx]\n",
    "    ls.append(res)"
   ]
  },
  {
   "cell_type": "code",
   "execution_count": 67,
   "metadata": {},
   "outputs": [
    {
     "name": "stdout",
     "output_type": "stream",
     "text": [
      "생고기 김치찌개 \t 생고기김치찌개\n",
      "생 자몽티 \t 생자몽티\n",
      "덮밥 가라아게 \t 가라아게덮밥\n",
      "가쓰오 장국 \t 가쓰오장국\n",
      "카츠 가지 \t 가지카츠\n"
     ]
    }
   ],
   "source": [
    "for x, y in ls[0].unique()[:5]:\n",
    "    print(x,'\\t',y)"
   ]
  },
  {
   "cell_type": "code",
   "execution_count": 68,
   "metadata": {},
   "outputs": [
    {
     "name": "stdout",
     "output_type": "stream",
     "text": [
      "생 고구마 \t 생고구마\n",
      "생 딸기 \t 생딸기\n",
      "망고 생 \t 생망고\n",
      "생 복숭아 \t 생복숭아\n",
      "생 블루베리 \t 생블루베리\n"
     ]
    }
   ],
   "source": [
    "for x, y in ls[1].unique()[:5]:\n",
    "    print(x,'\\t',y)"
   ]
  },
  {
   "cell_type": "code",
   "execution_count": 86,
   "metadata": {},
   "outputs": [],
   "source": [
    "import seaborn as sns\n",
    "import matplotlib.pyplot as plt\n",
    "plt.rcParams['font.family'] = 'Malgun Gothic'"
   ]
  },
  {
   "cell_type": "code",
   "execution_count": 87,
   "metadata": {},
   "outputs": [
    {
     "data": {
      "image/png": "[encoded data removed]",
      "text/plain": [
       "<Figure size 640x480 with 1 Axes>"
      ]
     },
     "metadata": {},
     "output_type": "display_data"
    }
   ],
   "source": [
    "sns.countplot(train['길이차이']);"
   ]
  },
  {
   "cell_type": "code",
   "execution_count": 88,
   "metadata": {},
   "outputs": [
    {
     "data": {
      "image/png": "[encoded data removed]",
      "text/plain": [
       "<Figure size 640x480 with 1 Axes>"
      ]
     },
     "metadata": {},
     "output_type": "display_data"
    }
   ],
   "source": [
    "sns.countplot(train['요소차이']);"
   ]
  },
  {
   "cell_type": "code",
   "execution_count": 89,
   "metadata": {},
   "outputs": [
    {
     "data": {
      "image/png": "[encoded data removed]",
      "text/plain": [
       "<Figure size 640x480 with 1 Axes>"
      ]
     },
     "metadata": {},
     "output_type": "display_data"
    }
   ],
   "source": [
    "sns.countplot(abs(train['요소차이'] - train['길이차이']));"
   ]
  },
  {
   "cell_type": "code",
   "execution_count": 90,
   "metadata": {},
   "outputs": [
    {
     "data": {
      "image/png": "[encoded data removed]",
      "text/plain": [
       "<Figure size 640x480 with 1 Axes>"
      ]
     },
     "metadata": {},
     "output_type": "display_data"
    }
   ],
   "source": [
    "sns.countplot(train['요소차이'] - train['길이차이']);"
   ]
  },
  {
   "cell_type": "code",
   "execution_count": null,
   "metadata": {},
   "outputs": [],
   "source": []
  }
 ],
 "metadata": {
  "kernelspec": {
   "display_name": "base",
   "language": "python",
   "name": "python3"
  },
  "language_info": {
   "codemirror_mode": {
    "name": "ipython",
    "version": 3
   },
   "file_extension": ".py",
   "mimetype": "text/x-python",
   "name": "python",
   "nbconvert_exporter": "python",
   "pygments_lexer": "ipython3",
   "version": "3.9.13"
  },
  "orig_nbformat": 4,
  "vscode": {
   "interpreter": {
    "hash": "a077222d77dfe082b8f1dd562ad70e458ac2ab76993a0b248ab0476e32e9e8dd"
   }
  }
 },
 "nbformat": 4,
 "nbformat_minor": 2
}
