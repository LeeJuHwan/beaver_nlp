{
 "cells": [
  {
   "cell_type": "code",
   "execution_count": 1,
   "metadata": {},
   "outputs": [],
   "source": [
    "# !pip install kiwipiepy\n",
    "# !pip install jamo"
   ]
  },
  {
   "cell_type": "code",
   "execution_count": 2,
   "metadata": {},
   "outputs": [
    {
     "data": {
      "text/plain": [
       "'c:\\\\Users\\\\user\\\\Desktop\\\\started_from_the_bottom\\\\FINAL'"
      ]
     },
     "execution_count": 2,
     "metadata": {},
     "output_type": "execute_result"
    }
   ],
   "source": [
    "pwd"
   ]
  },
  {
   "cell_type": "code",
   "execution_count": 3,
   "metadata": {},
   "outputs": [],
   "source": [
    "import pandas as pd\n",
    "import numpy as np\n",
    "from functools import partial\n",
    "from collections import defaultdict\n",
    "\n",
    "from module.final import *\n",
    "\n",
    "import warnings\n",
    "warnings.filterwarnings(\"ignore\")"
   ]
  },
  {
   "cell_type": "code",
   "execution_count": 4,
   "metadata": {},
   "outputs": [],
   "source": [
    "WD = WordDict()\n",
    "AL = Algorithm()"
   ]
  },
  {
   "cell_type": "code",
   "execution_count": 5,
   "metadata": {},
   "outputs": [],
   "source": [
    "data = pd.read_excel('data./offerTrain.xlsx')"
   ]
  },
  {
   "attachments": {},
   "cell_type": "markdown",
   "metadata": {},
   "source": [
    "## 1. 표준화 사전 구축"
   ]
  },
  {
   "cell_type": "code",
   "execution_count": 6,
   "metadata": {},
   "outputs": [],
   "source": [
    "# data['상품명'].apply(lambda x:len(x)).value_counts()"
   ]
  },
  {
   "cell_type": "code",
   "execution_count": 7,
   "metadata": {},
   "outputs": [],
   "source": [
    "train = data[['상품명', '표준상품명']]\n",
    "train.drop_duplicates(inplace=True)"
   ]
  },
  {
   "cell_type": "code",
   "execution_count": 8,
   "metadata": {},
   "outputs": [],
   "source": [
    "train['상품명'] = train['상품명'].apply(AL.text_clean)"
   ]
  },
  {
   "cell_type": "code",
   "execution_count": 9,
   "metadata": {},
   "outputs": [],
   "source": [
    "def bracket_clear(txt):\n",
    "    txt = txt.replace('(', '')\n",
    "    txt = txt.replace(')', '')\n",
    "    if txt == '알수없음':\n",
    "        return '-'\n",
    "    return txt"
   ]
  },
  {
   "cell_type": "code",
   "execution_count": 10,
   "metadata": {},
   "outputs": [],
   "source": [
    "train['표준상품명'] = train['표준상품명'].apply(bracket_clear)"
   ]
  },
  {
   "cell_type": "code",
   "execution_count": 11,
   "metadata": {},
   "outputs": [],
   "source": [
    "train['상품명_길이'] = train['상품명'].apply(lambda x:len(x))\n",
    "train['표준상품명_길이'] = train['표준상품명'].apply(lambda x:len(x))\n",
    "\n",
    "train['상품명_요소'] = train['상품명'].apply(lambda x:len(x.split(' ')))\n",
    "train['표준상품명_요소'] = train['표준상품명'].apply(lambda x:len(x.split(' ')))\n",
    "\n",
    "train['길이차이'] = train['표준상품명_길이'] - train['상품명_길이']\n",
    "train['요소차이'] = train['표준상품명_요소'] - train['상품명_요소']"
   ]
  },
  {
   "cell_type": "code",
   "execution_count": 12,
   "metadata": {},
   "outputs": [],
   "source": [
    "cond1 = train['표준상품명'] != '-'\n",
    "cond2 = train['표준상품명'] == '-'\n",
    "option_11 = train[cond1]\n",
    "option_12 = train[cond2]"
   ]
  },
  {
   "cell_type": "code",
   "execution_count": 13,
   "metadata": {},
   "outputs": [],
   "source": [
    "cond1 = train['상품명_길이'] > 1\n",
    "cond2 = train['표준상품명_길이'] > 1\n",
    "train = train[cond1 & cond2]"
   ]
  },
  {
   "attachments": {},
   "cell_type": "markdown",
   "metadata": {},
   "source": [
    "## 1.1. 길이차이 0 인 경우"
   ]
  },
  {
   "cell_type": "code",
   "execution_count": 14,
   "metadata": {},
   "outputs": [],
   "source": [
    "cond1 = train['길이차이'] == 0\n",
    "cond2 = train['요소차이'] == 0\n",
    "res_df_1 = train[cond1 & cond2]"
   ]
  },
  {
   "cell_type": "code",
   "execution_count": 15,
   "metadata": {},
   "outputs": [],
   "source": [
    "# 표준화 사전에 집어넣기\n",
    "res_df_121 = res_df_1[res_df_1['상품명'] == res_df_1['표준상품명']]\n",
    "res_df_122 = res_df_1[res_df_1['상품명'] != res_df_1['표준상품명']]"
   ]
  },
  {
   "cell_type": "code",
   "execution_count": 16,
   "metadata": {},
   "outputs": [
    {
     "name": "stderr",
     "output_type": "stream",
     "text": [
      "100%|██████████| 13453/13453 [00:30<00:00, 446.92it/s] \n"
     ]
    }
   ],
   "source": [
    "for words in tqdm(res_df_121['표준상품명']):\n",
    "    # print(words)\n",
    "    wordsList = words.split(' ')\n",
    "    for idx, word in enumerate(wordsList):\n",
    "        # print(word)\n",
    "        WD.updateDictonary(word, word, len(wordsList)-idx, type='c')"
   ]
  },
  {
   "cell_type": "code",
   "execution_count": 17,
   "metadata": {},
   "outputs": [
    {
     "data": {
      "text/plain": [
       "{'wordList': {'마카롱'},\n",
       " 'idxList': [1,\n",
       "  1,\n",
       "  1,\n",
       "  1,\n",
       "  1,\n",
       "  1,\n",
       "  1,\n",
       "  1,\n",
       "  1,\n",
       "  1,\n",
       "  1,\n",
       "  1,\n",
       "  1,\n",
       "  1,\n",
       "  1,\n",
       "  1,\n",
       "  1,\n",
       "  1,\n",
       "  1,\n",
       "  1,\n",
       "  1,\n",
       "  1,\n",
       "  1,\n",
       "  1,\n",
       "  2,\n",
       "  1,\n",
       "  1,\n",
       "  1,\n",
       "  1,\n",
       "  1,\n",
       "  1,\n",
       "  1,\n",
       "  1,\n",
       "  1,\n",
       "  1,\n",
       "  1,\n",
       "  1,\n",
       "  1,\n",
       "  1,\n",
       "  1,\n",
       "  1,\n",
       "  1,\n",
       "  1,\n",
       "  1,\n",
       "  1,\n",
       "  1,\n",
       "  1,\n",
       "  1,\n",
       "  1,\n",
       "  1,\n",
       "  1,\n",
       "  1,\n",
       "  1,\n",
       "  1,\n",
       "  1,\n",
       "  1,\n",
       "  1,\n",
       "  1,\n",
       "  1],\n",
       " 'mean': 1.0169491525423728}"
      ]
     },
     "execution_count": 17,
     "metadata": {},
     "output_type": "execute_result"
    }
   ],
   "source": [
    "WD.StandardDict['마카롱']"
   ]
  },
  {
   "cell_type": "code",
   "execution_count": 18,
   "metadata": {},
   "outputs": [],
   "source": [
    "def element_set(txt):\n",
    "    return set(txt.split(' '))"
   ]
  },
  {
   "cell_type": "code",
   "execution_count": 19,
   "metadata": {},
   "outputs": [],
   "source": [
    "def set_check(df, same):\n",
    "    if same:\n",
    "        res = df[df['상품명'].apply(element_set) == df['표준상품명'].apply(element_set)]\n",
    "        return res\n",
    "    res = df[df['상품명'].apply(element_set) != df['표준상품명'].apply(element_set)]\n",
    "    return res"
   ]
  },
  {
   "cell_type": "code",
   "execution_count": 20,
   "metadata": {},
   "outputs": [],
   "source": [
    "res_df_131 = set_check(res_df_122, True)\n",
    "res_df_132 = set_check(res_df_122, False)"
   ]
  },
  {
   "cell_type": "code",
   "execution_count": 21,
   "metadata": {},
   "outputs": [
    {
     "name": "stderr",
     "output_type": "stream",
     "text": [
      "100%|██████████| 157/157 [00:00<00:00, 2712.45it/s]\n"
     ]
    }
   ],
   "source": [
    "for words in tqdm(res_df_131['표준상품명']):\n",
    "    # print(words)\n",
    "    wordsList = words.split(' ')\n",
    "    for idx, word in enumerate(wordsList):\n",
    "        # print(word)\n",
    "        WD.updateDictonary(word, word, len(wordsList)-idx, type='c')"
   ]
  },
  {
   "cell_type": "code",
   "execution_count": 22,
   "metadata": {},
   "outputs": [],
   "source": [
    "cond1 = res_df_132['상품명_요소'] == 1\n",
    "res_df_141 = res_df_132[cond1]"
   ]
  },
  {
   "cell_type": "code",
   "execution_count": 23,
   "metadata": {},
   "outputs": [
    {
     "name": "stderr",
     "output_type": "stream",
     "text": [
      "669it [00:03, 206.95it/s]\n"
     ]
    }
   ],
   "source": [
    "for ori, std in tqdm(zip(res_df_141['상품명'], res_df_141['표준상품명'])):\n",
    "    # print(std, ori)\n",
    "    WD.updateDictonary(std, ori, 1, type='c')"
   ]
  },
  {
   "cell_type": "code",
   "execution_count": 24,
   "metadata": {},
   "outputs": [],
   "source": [
    "cond1 = res_df_132['상품명_요소'] == 2\n",
    "res_df_142 = res_df_132[cond1]"
   ]
  },
  {
   "cell_type": "code",
   "execution_count": 25,
   "metadata": {},
   "outputs": [],
   "source": [
    "def ele_length_same(row):\n",
    "    for origin, std in zip(row['상품명'].split(' '), row['표준상품명'].split(' ')):\n",
    "        if len(origin) != len(std):\n",
    "            return False\n",
    "    return True"
   ]
  },
  {
   "cell_type": "code",
   "execution_count": 26,
   "metadata": {},
   "outputs": [],
   "source": [
    "res_df_151 = res_df_142[res_df_142.apply(ele_length_same, axis=1) == True]\n",
    "res_df_152 = res_df_142[res_df_142.apply(ele_length_same, axis=1) != True]"
   ]
  },
  {
   "cell_type": "code",
   "execution_count": 27,
   "metadata": {},
   "outputs": [],
   "source": [
    "def set_cha(row):\n",
    "    originSet = set(row['상품명'].split(' '))\n",
    "    stdSet = set(row['표준상품명'].split(' '))\n",
    "    x = list(originSet - stdSet)\n",
    "    y = list(stdSet - originSet)\n",
    "    # print(x, y)\n",
    "    if len(x+y) == 2:\n",
    "        return x[0], y[0]\n",
    "    if len(x+y) == 3:\n",
    "        return ' '.join(x), ' '.join(y)\n",
    "    return None"
   ]
  },
  {
   "cell_type": "code",
   "execution_count": 28,
   "metadata": {},
   "outputs": [
    {
     "name": "stderr",
     "output_type": "stream",
     "text": [
      "773it [00:02, 290.86it/s]\n"
     ]
    }
   ],
   "source": [
    "idx = res_df_151.apply(set_cha, axis=1).notnull()\n",
    "res = res_df_151.apply(set_cha, axis=1)[idx]\n",
    "\n",
    "for ori, std in tqdm(zip(res.str[0], res.str[1])):\n",
    "    # print(std, ori)\n",
    "    WD.updateDictonary(std, ori, 1, type='c')\n"
   ]
  },
  {
   "cell_type": "code",
   "execution_count": 29,
   "metadata": {},
   "outputs": [
    {
     "data": {
      "text/plain": [
       "{'wordList': {'리조떡'}, 'idxList': [1], 'mean': 1.0}"
      ]
     },
     "execution_count": 29,
     "metadata": {},
     "output_type": "execute_result"
    }
   ],
   "source": [
    "WD.StandardDict['리조또']"
   ]
  },
  {
   "attachments": {},
   "cell_type": "markdown",
   "metadata": {},
   "source": [
    "## 1.2. 요소차이 1인 경우"
   ]
  },
  {
   "cell_type": "code",
   "execution_count": 30,
   "metadata": {},
   "outputs": [],
   "source": [
    "cond1 = train['요소차이'] == -1\n",
    "res_df_2 = train[cond1]"
   ]
  },
  {
   "cell_type": "code",
   "execution_count": 31,
   "metadata": {},
   "outputs": [],
   "source": [
    "def element_join(row):\n",
    "    if row['상품명'].replace(' ', '') == row['표준상품명'].replace(' ', ''):\n",
    "        return True\n",
    "    return False"
   ]
  },
  {
   "cell_type": "code",
   "execution_count": 32,
   "metadata": {},
   "outputs": [],
   "source": [
    "res_df_221 = res_df_2[res_df_2.apply(element_join, axis=1) == True]"
   ]
  },
  {
   "cell_type": "code",
   "execution_count": 33,
   "metadata": {},
   "outputs": [],
   "source": [
    "cond1 = res_df_221['상품명_요소'] == 2\n",
    "res_df_2212 = res_df_221[cond1]\n",
    "cond1 = res_df_221['상품명_요소'] == 3\n",
    "res_df_2213 = res_df_221[cond1]\n",
    "cond1 = res_df_221['상품명_요소'] == 4\n",
    "res_df_2214 = res_df_221[cond1]"
   ]
  },
  {
   "cell_type": "code",
   "execution_count": 34,
   "metadata": {},
   "outputs": [],
   "source": [
    "# for df in [res_df_2212, res_df_2213, res_df_2214]:\n",
    "#     idx = df.apply(set_cha, axis=1).notnull()\n",
    "#     res = df.apply(set_cha, axis=1)[idx]\n",
    "#     for ori, std in tqdm(zip(res.str[0], res.str[1])):\n",
    "#         # print(std, ori)\n",
    "#         WD.updateDictonary(std, ori, 1, type='c')"
   ]
  },
  {
   "cell_type": "code",
   "execution_count": 35,
   "metadata": {},
   "outputs": [],
   "source": [
    "import pickle as pk"
   ]
  },
  {
   "cell_type": "code",
   "execution_count": 38,
   "metadata": {},
   "outputs": [],
   "source": [
    "# save\n",
    "with open('WD.StandardDict.p', 'wb') as f:\n",
    "    pk.dump(WD.StandardDict, f)\n",
    "\n",
    "# load\n",
    "with open('WD.StandardDict.p', 'rb') as f:\n",
    "    data = pk.load(f)"
   ]
  },
  {
   "cell_type": "code",
   "execution_count": 39,
   "metadata": {},
   "outputs": [],
   "source": [
    "# save\n",
    "with open('WD.WordToStandard.p', 'wb') as f:\n",
    "    pk.dump(WD.WordToStandard, f)\n",
    "\n",
    "# load\n",
    "with open('WD.WordToStandard.p', 'rb') as f:\n",
    "    data = pk.load(f)"
   ]
  },
  {
   "cell_type": "code",
   "execution_count": null,
   "metadata": {},
   "outputs": [],
   "source": []
  }
 ],
 "metadata": {
  "kernelspec": {
   "display_name": "base",
   "language": "python",
   "name": "python3"
  },
  "language_info": {
   "codemirror_mode": {
    "name": "ipython",
    "version": 3
   },
   "file_extension": ".py",
   "mimetype": "text/x-python",
   "name": "python",
   "nbconvert_exporter": "python",
   "pygments_lexer": "ipython3",
   "version": "3.9.13"
  },
  "orig_nbformat": 4,
  "vscode": {
   "interpreter": {
    "hash": "a077222d77dfe082b8f1dd562ad70e458ac2ab76993a0b248ab0476e32e9e8dd"
   }
  }
 },
 "nbformat": 4,
 "nbformat_minor": 2
}
